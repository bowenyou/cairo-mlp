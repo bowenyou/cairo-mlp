{
  "nbformat": 4,
  "nbformat_minor": 0,
  "metadata": {
    "colab": {
      "provenance": []
    },
    "kernelspec": {
      "name": "python3",
      "display_name": "Python 3"
    },
    "language_info": {
      "name": "python"
    }
  },
  "cells": [
    {
      "cell_type": "markdown",
      "source": [
        "Let's create a simple feedforward neural network using TensorFlow to solve a regression problem. I'll start by creating synthetic data, then define, train, and evaluate the neural network using backpropagation."
      ],
      "metadata": {
        "id": "YTbiwnn64tRR"
      }
    },
    {
      "cell_type": "markdown",
      "source": [
        "1. Creating Synthetic Data:"
      ],
      "metadata": {
        "id": "I36rp-JP5649"
      }
    },
    {
      "cell_type": "code",
      "execution_count": 1,
      "metadata": {
        "id": "q0LU6UsWhkDJ"
      },
      "outputs": [],
      "source": [
        "import numpy as np\n",
        "import tensorflow as tf\n",
        "\n",
        "# Generate synthetic data\n",
        "np.random.seed(42)\n",
        "X = np.linspace(-1, 1, 100)[:, np.newaxis]\n",
        "y = 2 * X + 1 + 0.5 * np.random.normal(size=X.shape)\n",
        "\n",
        "# Splitting the data into training and test sets\n",
        "train_indices = np.random.choice(len(X), round(len(X) * 0.8), replace=False)\n",
        "test_indices = np.array(list(set(range(len(X))) - set(train_indices)))\n",
        "X_train = X[train_indices]\n",
        "y_train = y[train_indices]\n",
        "X_test = X[test_indices]\n",
        "y_test = y[test_indices]\n"
      ]
    },
    {
      "cell_type": "markdown",
      "source": [
        "2. Building the Neural Network:"
      ],
      "metadata": {
        "id": "rVO_HRSE6AAz"
      }
    },
    {
      "cell_type": "code",
      "source": [
        "from tensorflow.keras.models import Sequential\n",
        "from tensorflow.keras.layers import Dense\n",
        "\n",
        "# Create a sequential model\n",
        "model = Sequential()\n",
        "\n",
        "# Adding layers to the model\n",
        "model.add(Dense(10, input_dim=1, activation='relu'))\n",
        "model.add(Dense(10, activation='relu'))\n",
        "model.add(Dense(1))\n",
        "\n",
        "# Compile the model\n",
        "model.compile(loss='mean_squared_error', optimizer='adam')\n"
      ],
      "metadata": {
        "id": "LlhaLXOxhmjW"
      },
      "execution_count": 2,
      "outputs": []
    },
    {
      "cell_type": "markdown",
      "source": [
        "3. Training the Model:"
      ],
      "metadata": {
        "id": "A2nbH_he6Fvw"
      }
    },
    {
      "cell_type": "code",
      "source": [
        "model.fit(X_train, y_train, epochs=100, batch_size=10)\n"
      ],
      "metadata": {
        "colab": {
          "base_uri": "https://localhost:8080/"
        },
        "id": "4c5wQyehhoQl",
        "outputId": "b134c6b2-9b2f-4e48-abce-e17691b0ee6a"
      },
      "execution_count": 3,
      "outputs": [
        {
          "output_type": "stream",
          "name": "stdout",
          "text": [
            "Epoch 1/100\n",
            "8/8 [==============================] - 2s 4ms/step - loss: 2.4610\n",
            "Epoch 2/100\n",
            "8/8 [==============================] - 0s 5ms/step - loss: 2.4268\n",
            "Epoch 3/100\n",
            "8/8 [==============================] - 0s 5ms/step - loss: 2.3934\n",
            "Epoch 4/100\n",
            "8/8 [==============================] - 0s 5ms/step - loss: 2.3536\n",
            "Epoch 5/100\n",
            "8/8 [==============================] - 0s 3ms/step - loss: 2.3051\n",
            "Epoch 6/100\n",
            "8/8 [==============================] - 0s 3ms/step - loss: 2.2428\n",
            "Epoch 7/100\n",
            "8/8 [==============================] - 0s 6ms/step - loss: 2.1795\n",
            "Epoch 8/100\n",
            "8/8 [==============================] - 0s 6ms/step - loss: 2.1108\n",
            "Epoch 9/100\n",
            "8/8 [==============================] - 0s 4ms/step - loss: 2.0348\n",
            "Epoch 10/100\n",
            "8/8 [==============================] - 0s 6ms/step - loss: 1.9603\n",
            "Epoch 11/100\n",
            "8/8 [==============================] - 0s 8ms/step - loss: 1.8752\n",
            "Epoch 12/100\n",
            "8/8 [==============================] - 0s 7ms/step - loss: 1.7929\n",
            "Epoch 13/100\n",
            "8/8 [==============================] - 0s 4ms/step - loss: 1.7098\n",
            "Epoch 14/100\n",
            "8/8 [==============================] - 0s 4ms/step - loss: 1.6116\n",
            "Epoch 15/100\n",
            "8/8 [==============================] - 0s 3ms/step - loss: 1.5285\n",
            "Epoch 16/100\n",
            "8/8 [==============================] - 0s 6ms/step - loss: 1.4258\n",
            "Epoch 17/100\n",
            "8/8 [==============================] - 0s 10ms/step - loss: 1.3271\n",
            "Epoch 18/100\n",
            "8/8 [==============================] - 0s 6ms/step - loss: 1.1989\n",
            "Epoch 19/100\n",
            "8/8 [==============================] - 0s 10ms/step - loss: 1.0781\n",
            "Epoch 20/100\n",
            "8/8 [==============================] - 0s 7ms/step - loss: 0.9598\n",
            "Epoch 21/100\n",
            "8/8 [==============================] - 0s 3ms/step - loss: 0.8519\n",
            "Epoch 22/100\n",
            "8/8 [==============================] - 0s 4ms/step - loss: 0.7420\n",
            "Epoch 23/100\n",
            "8/8 [==============================] - 0s 3ms/step - loss: 0.6556\n",
            "Epoch 24/100\n",
            "8/8 [==============================] - 0s 5ms/step - loss: 0.5646\n",
            "Epoch 25/100\n",
            "8/8 [==============================] - 0s 3ms/step - loss: 0.4914\n",
            "Epoch 26/100\n",
            "8/8 [==============================] - 0s 4ms/step - loss: 0.4287\n",
            "Epoch 27/100\n",
            "8/8 [==============================] - 0s 11ms/step - loss: 0.3840\n",
            "Epoch 28/100\n",
            "8/8 [==============================] - 0s 6ms/step - loss: 0.3328\n",
            "Epoch 29/100\n",
            "8/8 [==============================] - 0s 4ms/step - loss: 0.3002\n",
            "Epoch 30/100\n",
            "8/8 [==============================] - 0s 3ms/step - loss: 0.2739\n",
            "Epoch 31/100\n",
            "8/8 [==============================] - 0s 5ms/step - loss: 0.2555\n",
            "Epoch 32/100\n",
            "8/8 [==============================] - 0s 3ms/step - loss: 0.2438\n",
            "Epoch 33/100\n",
            "8/8 [==============================] - 0s 4ms/step - loss: 0.2348\n",
            "Epoch 34/100\n",
            "8/8 [==============================] - 0s 7ms/step - loss: 0.2279\n",
            "Epoch 35/100\n",
            "8/8 [==============================] - 0s 3ms/step - loss: 0.2235\n",
            "Epoch 36/100\n",
            "8/8 [==============================] - 0s 6ms/step - loss: 0.2230\n",
            "Epoch 37/100\n",
            "8/8 [==============================] - 0s 7ms/step - loss: 0.2196\n",
            "Epoch 38/100\n",
            "8/8 [==============================] - 0s 9ms/step - loss: 0.2181\n",
            "Epoch 39/100\n",
            "8/8 [==============================] - 0s 6ms/step - loss: 0.2168\n",
            "Epoch 40/100\n",
            "8/8 [==============================] - 0s 5ms/step - loss: 0.2158\n",
            "Epoch 41/100\n",
            "8/8 [==============================] - 0s 6ms/step - loss: 0.2152\n",
            "Epoch 42/100\n",
            "8/8 [==============================] - 0s 7ms/step - loss: 0.2145\n",
            "Epoch 43/100\n",
            "8/8 [==============================] - 0s 3ms/step - loss: 0.2131\n",
            "Epoch 44/100\n",
            "8/8 [==============================] - 0s 3ms/step - loss: 0.2125\n",
            "Epoch 45/100\n",
            "8/8 [==============================] - 0s 3ms/step - loss: 0.2121\n",
            "Epoch 46/100\n",
            "8/8 [==============================] - 0s 4ms/step - loss: 0.2119\n",
            "Epoch 47/100\n",
            "8/8 [==============================] - 0s 4ms/step - loss: 0.2113\n",
            "Epoch 48/100\n",
            "8/8 [==============================] - 0s 13ms/step - loss: 0.2110\n",
            "Epoch 49/100\n",
            "8/8 [==============================] - 0s 6ms/step - loss: 0.2104\n",
            "Epoch 50/100\n",
            "8/8 [==============================] - 0s 9ms/step - loss: 0.2102\n",
            "Epoch 51/100\n",
            "8/8 [==============================] - 0s 6ms/step - loss: 0.2100\n",
            "Epoch 52/100\n",
            "8/8 [==============================] - 0s 6ms/step - loss: 0.2095\n",
            "Epoch 53/100\n",
            "8/8 [==============================] - 0s 6ms/step - loss: 0.2093\n",
            "Epoch 54/100\n",
            "8/8 [==============================] - 0s 9ms/step - loss: 0.2090\n",
            "Epoch 55/100\n",
            "8/8 [==============================] - 0s 7ms/step - loss: 0.2090\n",
            "Epoch 56/100\n",
            "8/8 [==============================] - 0s 7ms/step - loss: 0.2088\n",
            "Epoch 57/100\n",
            "8/8 [==============================] - 0s 10ms/step - loss: 0.2084\n",
            "Epoch 58/100\n",
            "8/8 [==============================] - 0s 6ms/step - loss: 0.2088\n",
            "Epoch 59/100\n",
            "8/8 [==============================] - 0s 7ms/step - loss: 0.2078\n",
            "Epoch 60/100\n",
            "8/8 [==============================] - 0s 4ms/step - loss: 0.2079\n",
            "Epoch 61/100\n",
            "8/8 [==============================] - 0s 5ms/step - loss: 0.2078\n",
            "Epoch 62/100\n",
            "8/8 [==============================] - 0s 4ms/step - loss: 0.2075\n",
            "Epoch 63/100\n",
            "8/8 [==============================] - 0s 5ms/step - loss: 0.2077\n",
            "Epoch 64/100\n",
            "8/8 [==============================] - 0s 8ms/step - loss: 0.2081\n",
            "Epoch 65/100\n",
            "8/8 [==============================] - 0s 7ms/step - loss: 0.2072\n",
            "Epoch 66/100\n",
            "8/8 [==============================] - 0s 6ms/step - loss: 0.2073\n",
            "Epoch 67/100\n",
            "8/8 [==============================] - 0s 7ms/step - loss: 0.2066\n",
            "Epoch 68/100\n",
            "8/8 [==============================] - 0s 8ms/step - loss: 0.2068\n",
            "Epoch 69/100\n",
            "8/8 [==============================] - 0s 9ms/step - loss: 0.2069\n",
            "Epoch 70/100\n",
            "8/8 [==============================] - 0s 5ms/step - loss: 0.2068\n",
            "Epoch 71/100\n",
            "8/8 [==============================] - 0s 5ms/step - loss: 0.2063\n",
            "Epoch 72/100\n",
            "8/8 [==============================] - 0s 6ms/step - loss: 0.2070\n",
            "Epoch 73/100\n",
            "8/8 [==============================] - 0s 5ms/step - loss: 0.2066\n",
            "Epoch 74/100\n",
            "8/8 [==============================] - 0s 7ms/step - loss: 0.2074\n",
            "Epoch 75/100\n",
            "8/8 [==============================] - 0s 5ms/step - loss: 0.2064\n",
            "Epoch 76/100\n",
            "8/8 [==============================] - 0s 6ms/step - loss: 0.2062\n",
            "Epoch 77/100\n",
            "8/8 [==============================] - 0s 5ms/step - loss: 0.2064\n",
            "Epoch 78/100\n",
            "8/8 [==============================] - 0s 4ms/step - loss: 0.2064\n",
            "Epoch 79/100\n",
            "8/8 [==============================] - 0s 6ms/step - loss: 0.2061\n",
            "Epoch 80/100\n",
            "8/8 [==============================] - 0s 4ms/step - loss: 0.2063\n",
            "Epoch 81/100\n",
            "8/8 [==============================] - 0s 9ms/step - loss: 0.2059\n",
            "Epoch 82/100\n",
            "8/8 [==============================] - 0s 5ms/step - loss: 0.2064\n",
            "Epoch 83/100\n",
            "8/8 [==============================] - 0s 5ms/step - loss: 0.2061\n",
            "Epoch 84/100\n",
            "8/8 [==============================] - 0s 7ms/step - loss: 0.2059\n",
            "Epoch 85/100\n",
            "8/8 [==============================] - 0s 7ms/step - loss: 0.2058\n",
            "Epoch 86/100\n",
            "8/8 [==============================] - 0s 6ms/step - loss: 0.2063\n",
            "Epoch 87/100\n",
            "8/8 [==============================] - 0s 4ms/step - loss: 0.2070\n",
            "Epoch 88/100\n",
            "8/8 [==============================] - 0s 4ms/step - loss: 0.2058\n",
            "Epoch 89/100\n",
            "8/8 [==============================] - 0s 11ms/step - loss: 0.2056\n",
            "Epoch 90/100\n",
            "8/8 [==============================] - 0s 12ms/step - loss: 0.2062\n",
            "Epoch 91/100\n",
            "8/8 [==============================] - 0s 5ms/step - loss: 0.2057\n",
            "Epoch 92/100\n",
            "8/8 [==============================] - 0s 6ms/step - loss: 0.2056\n",
            "Epoch 93/100\n",
            "8/8 [==============================] - 0s 7ms/step - loss: 0.2055\n",
            "Epoch 94/100\n",
            "8/8 [==============================] - 0s 4ms/step - loss: 0.2055\n",
            "Epoch 95/100\n",
            "8/8 [==============================] - 0s 5ms/step - loss: 0.2054\n",
            "Epoch 96/100\n",
            "8/8 [==============================] - 0s 5ms/step - loss: 0.2061\n",
            "Epoch 97/100\n",
            "8/8 [==============================] - 0s 9ms/step - loss: 0.2059\n",
            "Epoch 98/100\n",
            "8/8 [==============================] - 0s 10ms/step - loss: 0.2054\n",
            "Epoch 99/100\n",
            "8/8 [==============================] - 0s 13ms/step - loss: 0.2062\n",
            "Epoch 100/100\n",
            "8/8 [==============================] - 0s 9ms/step - loss: 0.2055\n"
          ]
        },
        {
          "output_type": "execute_result",
          "data": {
            "text/plain": [
              "<keras.callbacks.History at 0x794395423ca0>"
            ]
          },
          "metadata": {},
          "execution_count": 3
        }
      ]
    },
    {
      "cell_type": "markdown",
      "source": [
        "4. Evaluating the Model:"
      ],
      "metadata": {
        "id": "7kzOBjj_6Kd1"
      }
    },
    {
      "cell_type": "code",
      "source": [
        "loss = model.evaluate(X_test, y_test)\n",
        "print(f\"Mean Squared Error: {loss}\")\n"
      ],
      "metadata": {
        "colab": {
          "base_uri": "https://localhost:8080/"
        },
        "id": "w_PGgSD2hqM0",
        "outputId": "e7962690-6ca4-4d77-c93d-76a2aac1844c"
      },
      "execution_count": 4,
      "outputs": [
        {
          "output_type": "stream",
          "name": "stdout",
          "text": [
            "1/1 [==============================] - 1s 751ms/step - loss: 0.1365\n",
            "Mean Squared Error: 0.1364605873823166\n"
          ]
        }
      ]
    },
    {
      "cell_type": "markdown",
      "source": [
        "5. Predicting using the Model:"
      ],
      "metadata": {
        "id": "f6avd1SH6NPy"
      }
    },
    {
      "cell_type": "code",
      "source": [
        "y_pred = model.predict(X_test)\n",
        "\n",
        "# Optionally, you can plot the results\n",
        "import matplotlib.pyplot as plt\n",
        "\n",
        "plt.scatter(X_test, y_test, label=\"True Values\")\n",
        "plt.scatter(X_test, y_pred, label=\"Predictions\", color='red')\n",
        "plt.legend()\n",
        "plt.show()\n"
      ],
      "metadata": {
        "colab": {
          "base_uri": "https://localhost:8080/",
          "height": 447
        },
        "id": "34pPdJI0hr4g",
        "outputId": "3219ceb9-0c00-4301-9e51-3f20c430b41d"
      },
      "execution_count": 5,
      "outputs": [
        {
          "output_type": "stream",
          "name": "stdout",
          "text": [
            "1/1 [==============================] - 0s 387ms/step\n"
          ]
        },
        {
          "output_type": "display_data",
          "data": {
            "text/plain": [
              "<Figure size 640x480 with 1 Axes>"
            ],
            "image/png": "[encoded data removed]"
          },
          "metadata": {}
        }
      ]
    },
    {
      "cell_type": "markdown",
      "source": [
        "Translating a neural network model directly to Cairo is nontrivial and operating with neural networks in such a space requires various specialized strategies.\n",
        "\n",
        "However, a high-level guideline of steps that would be involved:\n",
        "\n",
        "1. **Data Representation**: You would need to represent neural network weights, biases, and activations as fixed-point numbers or integers.\n",
        "\n",
        "2. **Linear Layers**: You would need to manually implement matrix multiplication and bias addition in Cairo.\n",
        "\n",
        "3. **Activation Functions**: Activation functions like ReLU would need to be implemented manually. For ReLU, you would compare the value against 0 and choose the maximum.\n",
        "\n",
        "4. **Loss Calculation**: The loss function, such as mean squared error, would need to be manually computed in Cairo for each output against the true label.\n",
        "\n",
        "5. **Backpropagation**: This is the trickiest part. We have to manually implement the backpropagation algorithm in Cairo, which means computing gradients for each weight and updating the weights accordingly.\n",
        "\n",
        "6. **Optimization**: For each epoch, we feed the data through the network, compute the loss, backpropagate to compute gradients, and then update the weights.\n",
        "\n",
        "However, the most challenging part of the entire process would be managing memory, handling loops, and ensuring efficient operations in Cairo, which is quite low-level."
      ],
      "metadata": {
        "id": "0Ou4xcnm6U1G"
      }
    },
    {
      "cell_type": "code",
      "source": [
        "import os\n",
        "tensor_name =['X_values', 'Y_values']\n",
        "\n",
        "def generate_cairo_files(data, name):\n",
        "\n",
        "    os.makedirs('src/generated', exist_ok=True)\n",
        "    with open(os.path.join('src', 'generated', f\"{name}.cairo\"), \"w\") as f:\n",
        "            f.write(\n",
        "                \"use array::ArrayTrait;\\n\" +\n",
        "                \"use orion::operators::tensor::core::{TensorTrait, Tensor, ExtraParams};\\n\" +\n",
        "                \"use orion::operators::tensor::implementations::impl_tensor_fp::Tensor_fp;\\n\" +\n",
        "                \"use orion::numbers::fixed_point::core::{FixedTrait, FixedType, FixedImpl};\\n\"\n",
        "                \"use orion::numbers::fixed_point::implementations::fp16x16::core::{FP16x16Impl, FP16x16PartialEq };\\n\"+\n",
        "                \"fn {0}() -> Tensor<FixedType>  \".format(name) + \"{\\n\" +\n",
        "                \"    let mut shape = ArrayTrait::new();\\n\"\n",
        "            )\n",
        "            for dim in data.shape:\n",
        "                f.write(\"    shape.append({0});\\n\".format(dim))\n",
        "            f.write(\n",
        "                \"    let mut data = ArrayTrait::new();\\n\"\n",
        "            )\n",
        "            for val in np.nditer(data.flatten()):\n",
        "                f.write(\"    data.append(FixedTrait::new({0}, {1} ));\\n\".format(abs(int(val * 2**16)), str(val < 0).lower()))\n",
        "            f.write(\n",
        "                \"let extra = ExtraParams { fixed_point: Option::Some(FixedImpl::FP16x16(())) }; \\n\" +\n",
        "                \"let tensor = TensorTrait::<FixedType>::new(shape.span(), data.span(), Option::Some(extra)); \\n \\n\" +\n",
        "                \"return tensor;\\n\\n\"+\n",
        "                \"}\\n\"\n",
        "            )\n",
        "    with open(os.path.join('src', 'generated.cairo'), 'w') as f:\n",
        "        for param_name in tensor_name:\n",
        "            f.write(f\"mod {param_name};\\n\")\n",
        "\n",
        "\n",
        "generate_cairo_files(X, 'X_values')\n",
        "generate_cairo_files(y, 'Y_values')"
      ],
      "metadata": {
        "id": "trkvZQAUiYf4"
      },
      "execution_count": 7,
      "outputs": []
    }
  ]
}